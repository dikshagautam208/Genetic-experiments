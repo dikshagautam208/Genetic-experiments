{
  "cells": [
    {
      "cell_type": "markdown",
      "metadata": {
        "id": "view-in-github",
        "colab_type": "text"
      },
      "source": [
        "<a href=\"https://colab.research.google.com/github/dikshagautam208/Genetic-experiments/blob/main/lesson1.ipynb\" target=\"_parent\"><img src=\"https://colab.research.google.com/assets/colab-badge.svg\" alt=\"Open In Colab\"/></a>"
      ]
    },
    {
      "cell_type": "markdown",
      "metadata": {
        "id": "ENGjGkH4zcuz"
      },
      "source": [
        "# Lesson 1\n",
        "\n",
        "## Python\n",
        "\n",
        "- ‘Two-language’ problem (scientific vs machine-friendly)\n",
        "- Readable, popular, and (un)officially well-documented\n",
        "- A package for almost anything – or easy to make one!\n"
      ]
    },
    {
      "cell_type": "markdown",
      "metadata": {
        "id": "LDKftydCzcu1"
      },
      "source": [
        "### Jupyter Tips\n",
        "\n",
        "- The interface you are using right now is called a Jupyter Notebook\n",
        "- It is divided into cells\n",
        "- Cells are either Python or markdown\n",
        "- Markdown is text with very simple formatting (titles, bullet points, etc.)\n",
        "- This cell is markdown\n",
        "- With any cell selected, up and down arrow keys will select cells above and below\n",
        "- With any cell selected, enter key will enter the cursor into that cell\n",
        "- The cursor is different to the mouse; the mouse is what you click with, the cursor is what you type with\n",
        "- With cursor inside any cell, markdown or Python will be shown in the bottom-right. Python cells will show this even without cursor inside\n",
        "- With cursor inside any cell, 'esc' to exit the cursor from the cell and select that cell\n",
        "- With any cell selected, press 'a' to create a Python cell above and 'b' to create a Python cell below\n",
        "- With any Python cell selected, press 'm' to turn it into a markdown cell\n",
        "- Any cell(s) selected can be copied, cut and paste using 'c', 'x' and 'v' (Ctrl/Cmd not necessary)\n",
        "- Cells can be run with Ctrl+Enter (Shift+Enter to run and select next cell)\n",
        "- Running a markdown cell will compile and display it\n",
        "- Running a Python cell will run all the Python inside it and show the value of  the last line. Beware that a variable assignment statement does not have a value: you will need to state the variable name on its own to get its value\n",
        "- You can also drag cells around with your mouse, and interact using your mouse in a variety of ways\n",
        "- The Jupyter interface is very forgiving and not as complicated as Microsoft Office or others which you are used to using. Play around and see what it can do! It (almost certainly) will not break\n",
        "- Having your cursor inside a cell is not the same as having a cell selected! (The same shortcuts will not work)"
      ]
    },
    {
      "cell_type": "markdown",
      "metadata": {
        "id": "s5g50DgMzcu2"
      },
      "source": [
        "### Variables and Objects\n",
        "\n",
        "- A variable is a symbol for a value\n",
        "- Everything in Python is an object – objects have types, but variables’ types are flexible\n",
        "\n",
        "Comments:\n",
        "You can add comments to code with ‘#’ – what comes after is not Python anymore\n",
        "\n",
        "- Common types include:\n",
        "    - Numeric: Integers and Floats\n",
        "    - Strings (writing)\n",
        "    - Booleans (True or False)\n",
        "    - Lists\n",
        "    - Tuples\n",
        "    - Dictionaries\n",
        "    - None (null/nothing)\n"
      ]
    },
    {
      "cell_type": "code",
      "execution_count": null,
      "metadata": {
        "id": "DwtRGuv6zcu3",
        "outputId": "2806799f-6539-446a-942b-87d8b9b75d29"
      },
      "outputs": [
        {
          "data": {
            "text/plain": [
              "'two'"
            ]
          },
          "execution_count": 1,
          "metadata": {},
          "output_type": "execute_result"
        }
      ],
      "source": [
        "age_str = 'two' # 'two' is a string\n",
        "age_str"
      ]
    },
    {
      "cell_type": "code",
      "execution_count": null,
      "metadata": {
        "id": "qpc8K947zcu5",
        "outputId": "696c2db2-6cd7-41b3-8fce-e421deec3fb2"
      },
      "outputs": [
        {
          "data": {
            "text/plain": [
              "'2'"
            ]
          },
          "execution_count": 1,
          "metadata": {},
          "output_type": "execute_result"
        }
      ],
      "source": [
        "two_str = '2' # '2' is also a string\n",
        "two_str"
      ]
    },
    {
      "cell_type": "code",
      "execution_count": null,
      "metadata": {
        "id": "8QDzis1Ezcu5",
        "outputId": "0fd3f21a-7208-4cda-c0a3-d8fe987a2af5"
      },
      "outputs": [
        {
          "data": {
            "text/plain": [
              "2.0833333333333335"
            ]
          },
          "execution_count": 2,
          "metadata": {},
          "output_type": "execute_result"
        }
      ],
      "source": [
        "age_months = 25 # 25 is an integer\n",
        "age_years = age_months / 12 # 25 / 12 will be a float\n",
        "\n",
        "age_years"
      ]
    },
    {
      "cell_type": "code",
      "execution_count": null,
      "metadata": {
        "id": "qWbZE0p_zcu6",
        "outputId": "4a67f8ba-3e66-4b97-b7fe-e68c0c403e3d"
      },
      "outputs": [
        {
          "data": {
            "text/plain": [
              "False"
            ]
          },
          "execution_count": 3,
          "metadata": {},
          "output_type": "execute_result"
        }
      ],
      "source": [
        "over_18 = age_years > 18 # age > 18 will be a boolean\n",
        "over_18"
      ]
    },
    {
      "cell_type": "code",
      "execution_count": null,
      "metadata": {
        "id": "KmzYyZyAzcu6",
        "outputId": "eac345c5-3b2d-4316-fc82-2eca232d2dcf"
      },
      "outputs": [
        {
          "name": "stdout",
          "output_type": "stream",
          "text": [
            "2\n"
          ]
        },
        {
          "ename": "NameError",
          "evalue": "name 'age_str' is not defined",
          "output_type": "error",
          "traceback": [
            "\u001b[0;31m---------------------------------------------------------------------------\u001b[0m",
            "\u001b[0;31mNameError\u001b[0m                                 Traceback (most recent call last)",
            "Cell \u001b[0;32mIn[4], line 3\u001b[0m\n\u001b[1;32m      1\u001b[0m \u001b[38;5;66;03m# jupyter prints the last line automatically, but if you need to see more than that, use print()\u001b[39;00m\n\u001b[1;32m      2\u001b[0m \u001b[38;5;28mprint\u001b[39m(two_str)\n\u001b[0;32m----> 3\u001b[0m \u001b[38;5;28mprint\u001b[39m(age_str)\n",
            "\u001b[0;31mNameError\u001b[0m: name 'age_str' is not defined"
          ]
        }
      ],
      "source": [
        "# jupyter prints the last line automatically, but if you need to see more than that, use print()\n",
        "print(two_str)\n",
        "print(age_str)"
      ]
    },
    {
      "cell_type": "code",
      "execution_count": null,
      "metadata": {
        "id": "QfWnlafWzcu6",
        "outputId": "dc1b779c-35bb-44f8-a7f4-c04d60a3eb11"
      },
      "outputs": [
        {
          "name": "stdout",
          "output_type": "stream",
          "text": [
            "True\n"
          ]
        }
      ],
      "source": [
        "# get used to the difference between = and ==\n",
        "print(two_str == '2')\n",
        "# = is variable assignment whereas == means \"are these two thing equal?\" as a question"
      ]
    },
    {
      "cell_type": "code",
      "execution_count": null,
      "metadata": {
        "id": "zXdLg4uSzcu7",
        "outputId": "bc5a46eb-04fa-41eb-cb97-07893b1c8a18"
      },
      "outputs": [
        {
          "data": {
            "text/plain": [
              "bool"
            ]
          },
          "execution_count": 6,
          "metadata": {},
          "output_type": "execute_result"
        }
      ],
      "source": [
        "# we can get the type of any object\n",
        "type(over_18)"
      ]
    },
    {
      "cell_type": "code",
      "execution_count": null,
      "metadata": {
        "id": "9skFKvuQzcu7",
        "outputId": "971e186c-35ac-483c-b368-ecc22d6ddda6"
      },
      "outputs": [
        {
          "data": {
            "text/plain": [
              "float"
            ]
          },
          "execution_count": 7,
          "metadata": {},
          "output_type": "execute_result"
        }
      ],
      "source": [
        "type(age_years)"
      ]
    },
    {
      "cell_type": "code",
      "execution_count": null,
      "metadata": {
        "id": "KNt7rbnIzcu7",
        "outputId": "7325780d-8120-42c3-c950-326a733ce470"
      },
      "outputs": [
        {
          "data": {
            "text/plain": [
              "int"
            ]
          },
          "execution_count": 8,
          "metadata": {},
          "output_type": "execute_result"
        }
      ],
      "source": [
        "type(age_months)"
      ]
    },
    {
      "cell_type": "code",
      "execution_count": null,
      "metadata": {
        "id": "0kzNtAM_zcu8",
        "outputId": "856d87e4-c75a-4365-e0fd-edbf6b635fb5"
      },
      "outputs": [
        {
          "data": {
            "text/plain": [
              "2"
            ]
          },
          "execution_count": 9,
          "metadata": {},
          "output_type": "execute_result"
        }
      ],
      "source": [
        "int(two_str) # we can 'cast' Python types into other types, when it makes sense"
      ]
    },
    {
      "cell_type": "code",
      "execution_count": null,
      "metadata": {
        "id": "j0FHH3XHzcu8",
        "outputId": "7f623d94-be01-4896-aa4a-1eda33c5e30c"
      },
      "outputs": [
        {
          "data": {
            "text/plain": [
              "'2'"
            ]
          },
          "execution_count": 10,
          "metadata": {},
          "output_type": "execute_result"
        }
      ],
      "source": [
        "str(2)"
      ]
    },
    {
      "cell_type": "code",
      "execution_count": null,
      "metadata": {
        "id": "lbPRlu0Wzcu8",
        "outputId": "21ca9c14-1d92-4250-9d45-6a678af5d21a"
      },
      "outputs": [
        {
          "data": {
            "text/plain": [
              "2.0"
            ]
          },
          "execution_count": 11,
          "metadata": {},
          "output_type": "execute_result"
        }
      ],
      "source": [
        "float(int(two_str))"
      ]
    },
    {
      "cell_type": "code",
      "execution_count": null,
      "metadata": {
        "id": "zso_H2Ebzcu8",
        "outputId": "0ba1d0a4-afe2-4c43-f313-50d4e5d5b77e"
      },
      "outputs": [
        {
          "data": {
            "text/plain": [
              "True"
            ]
          },
          "execution_count": 12,
          "metadata": {},
          "output_type": "execute_result"
        }
      ],
      "source": [
        "bool(\"Something\") # be careful of casting booleans - almost any data is True"
      ]
    },
    {
      "cell_type": "code",
      "execution_count": null,
      "metadata": {
        "id": "EWik2Qruzcu9",
        "outputId": "fb51c71c-865a-40b7-a9c9-d1571129fcef"
      },
      "outputs": [
        {
          "data": {
            "text/plain": [
              "True"
            ]
          },
          "execution_count": 13,
          "metadata": {},
          "output_type": "execute_result"
        }
      ],
      "source": [
        "bool(4.0)"
      ]
    },
    {
      "cell_type": "code",
      "execution_count": null,
      "metadata": {
        "id": "vGBGeEtwzcu9",
        "outputId": "df3ab511-c110-40c2-f295-66f8cf4cc0e4"
      },
      "outputs": [
        {
          "data": {
            "text/plain": [
              "False"
            ]
          },
          "execution_count": 14,
          "metadata": {},
          "output_type": "execute_result"
        }
      ],
      "source": [
        "bool(None) # only an absence of data, or a zero, is False as a boolean"
      ]
    },
    {
      "cell_type": "code",
      "execution_count": null,
      "metadata": {
        "id": "wHU16phPzcu9",
        "outputId": "a0e95f86-aba2-4508-af74-c7197eae0186"
      },
      "outputs": [
        {
          "data": {
            "text/plain": [
              "False"
            ]
          },
          "execution_count": 15,
          "metadata": {},
          "output_type": "execute_result"
        }
      ],
      "source": [
        "bool(0) # 0 is also False so that binary works: 1 - True, 0 - False"
      ]
    },
    {
      "cell_type": "code",
      "execution_count": null,
      "metadata": {
        "id": "WzfBqHFyzcu9",
        "outputId": "c6d4cf8b-5439-414f-91f8-3e538a08d325"
      },
      "outputs": [
        {
          "ename": "ValueError",
          "evalue": "invalid literal for int() with base 10: 'I am not an integer'",
          "output_type": "error",
          "traceback": [
            "\u001b[0;31m---------------------------------------------------------------------------\u001b[0m",
            "\u001b[0;31mValueError\u001b[0m                                Traceback (most recent call last)",
            "Cell \u001b[0;32mIn[16], line 2\u001b[0m\n\u001b[1;32m      1\u001b[0m \u001b[38;5;66;03m# we can't cast types when it doesn't make sense\u001b[39;00m\n\u001b[0;32m----> 2\u001b[0m \u001b[38;5;28mint\u001b[39m(\u001b[38;5;124m\"\u001b[39m\u001b[38;5;124mI am not an integer\u001b[39m\u001b[38;5;124m\"\u001b[39m)\n",
            "\u001b[0;31mValueError\u001b[0m: invalid literal for int() with base 10: 'I am not an integer'"
          ]
        }
      ],
      "source": [
        "# we can't cast types when it doesn't make sense\n",
        "int(\"I am not an integer\")"
      ]
    },
    {
      "cell_type": "code",
      "execution_count": null,
      "metadata": {
        "id": "x1v7m4sgzcu9",
        "outputId": "100e16f5-8e65-46e3-c50f-d680b71c534b"
      },
      "outputs": [
        {
          "data": {
            "text/plain": [
              "'I am older than 25 months old'"
            ]
          },
          "execution_count": 17,
          "metadata": {},
          "output_type": "execute_result"
        }
      ],
      "source": [
        "# f-strings allow you to put variables in strings (formatting)\n",
        "\n",
        "f\"I am older than {age_months} months old\""
      ]
    },
    {
      "cell_type": "code",
      "execution_count": null,
      "metadata": {
        "id": "dzsauVdXzcu9",
        "outputId": "5bf5ce1b-6efa-46f6-dbc9-1eb5dbd4d8a6"
      },
      "outputs": [
        {
          "ename": "NameError",
          "evalue": "name 'age_str' is not defined",
          "output_type": "error",
          "traceback": [
            "\u001b[0;31m---------------------------------------------------------------------------\u001b[0m",
            "\u001b[0;31mNameError\u001b[0m                                 Traceback (most recent call last)",
            "Cell \u001b[0;32mIn[18], line 2\u001b[0m\n\u001b[1;32m      1\u001b[0m \u001b[38;5;66;03m# we can get the length of a string with len()\u001b[39;00m\n\u001b[0;32m----> 2\u001b[0m \u001b[38;5;28mlen\u001b[39m(age_str)\n",
            "\u001b[0;31mNameError\u001b[0m: name 'age_str' is not defined"
          ]
        }
      ],
      "source": [
        "# we can get the length of a string with len()\n",
        "len(age_str)"
      ]
    },
    {
      "cell_type": "markdown",
      "metadata": {
        "id": "X5gs5ur-zcu-"
      },
      "source": [
        "#### Exercises\n",
        "\n",
        "Using the above as hints:\n",
        "\n",
        "1. Write someone's first name into a variable.\n",
        "    1. Get the number of letters in it.\n",
        "    2. Look up how to turn the `string` into all capital letters, or all lowercase letters.\n",
        "2. Write a full name (with at least one space between first and last)\n",
        "    1. Look up how to 'split' the `string` where the spaces are so that you have the first and last (and any more) names separately.\n",
        "    2. Now, use what you have learned so far to get the total number of letters in the name not counting the space!\n",
        "3. Look up how to take one number to the power of another, and do so with any pair of numbers\n",
        "4. Try all of the basic arithmetic operations (division, multiplication, etc.) on strings and integers, and try also with one string and one integer variable. Which ones work and which ones throw errors? Think about why it makes sense to do some operations and not to do others"
      ]
    },
    {
      "cell_type": "code",
      "execution_count": null,
      "metadata": {
        "id": "kD866jFEzcu-"
      },
      "outputs": [],
      "source": [
        "# Put your answers here (Esc > 'b' to add more cells)"
      ]
    },
    {
      "cell_type": "markdown",
      "metadata": {
        "id": "wB19smQWzcu-"
      },
      "source": [
        "### Collections and Mutability\n",
        "\n",
        "- A collection is any type which is designed to hold other objects: e.g. lists, tuples and dictionaries\n",
        "- Mutable means changeable – some collections let you change which objects they hold (lists and dictionaries), others are frozen on creation (tuples)\n",
        "- Lists and tuples are ordered and are indexed from 0 to the end\n",
        "- Dictionaries have no order (unlike a real dictionary!) and you do the indexing\n"
      ]
    },
    {
      "cell_type": "code",
      "execution_count": null,
      "metadata": {
        "id": "bsjhxDddzcu-",
        "outputId": "916a59d9-6ae5-43d4-a324-c42ddacc8035"
      },
      "outputs": [
        {
          "data": {
            "text/plain": [
              "['I', 'am', 'a', 'list']"
            ]
          },
          "execution_count": 21,
          "metadata": {},
          "output_type": "execute_result"
        }
      ],
      "source": [
        "my_list = ['I', 'am', 'a', 'list'] # square brackets create lists\n",
        "my_list"
      ]
    },
    {
      "cell_type": "code",
      "execution_count": null,
      "metadata": {
        "id": "b7eojU5Nzcu-",
        "outputId": "93fba0c0-1ec2-45bb-f364-cafbe6735cdd"
      },
      "outputs": [
        {
          "ename": "NameError",
          "evalue": "name 'my_list' is not defined",
          "output_type": "error",
          "traceback": [
            "\u001b[0;31m---------------------------------------------------------------------------\u001b[0m",
            "\u001b[0;31mNameError\u001b[0m                                 Traceback (most recent call last)",
            "Cell \u001b[0;32mIn[19], line 1\u001b[0m\n\u001b[0;32m----> 1\u001b[0m my_list[\u001b[38;5;241m3\u001b[39m]\n",
            "\u001b[0;31mNameError\u001b[0m: name 'my_list' is not defined"
          ]
        }
      ],
      "source": [
        "my_list[3]"
      ]
    },
    {
      "cell_type": "code",
      "execution_count": null,
      "metadata": {
        "id": "Z2uX7f3Xzcu-",
        "outputId": "5ad4c75b-a0d6-4892-f77f-64234404c149"
      },
      "outputs": [
        {
          "ename": "NameError",
          "evalue": "name 'my_list' is not defined",
          "output_type": "error",
          "traceback": [
            "\u001b[0;31m---------------------------------------------------------------------------\u001b[0m",
            "\u001b[0;31mNameError\u001b[0m                                 Traceback (most recent call last)",
            "Cell \u001b[0;32mIn[20], line 1\u001b[0m\n\u001b[0;32m----> 1\u001b[0m \u001b[38;5;28mlen\u001b[39m(my_list)\n",
            "\u001b[0;31mNameError\u001b[0m: name 'my_list' is not defined"
          ]
        }
      ],
      "source": [
        "len(my_list)"
      ]
    },
    {
      "cell_type": "code",
      "execution_count": null,
      "metadata": {
        "id": "RNhNzyzqzcu_",
        "outputId": "a41a8215-0190-4f48-dde0-aad1e19b99d0"
      },
      "outputs": [
        {
          "ename": "NameError",
          "evalue": "name 'my_list' is not defined",
          "output_type": "error",
          "traceback": [
            "\u001b[0;31m---------------------------------------------------------------------------\u001b[0m",
            "\u001b[0;31mNameError\u001b[0m                                 Traceback (most recent call last)",
            "Cell \u001b[0;32mIn[21], line 2\u001b[0m\n\u001b[1;32m      1\u001b[0m \u001b[38;5;66;03m# list example\u001b[39;00m\n\u001b[0;32m----> 2\u001b[0m my_list[\u001b[38;5;241m0\u001b[39m] \u001b[38;5;241m=\u001b[39m \u001b[38;5;124m'\u001b[39m\u001b[38;5;124mThis\u001b[39m\u001b[38;5;124m'\u001b[39m \u001b[38;5;66;03m# indexing starts at 0 (0-indexing)\u001b[39;00m\n\u001b[1;32m      3\u001b[0m my_list[\u001b[38;5;241m1\u001b[39m] \u001b[38;5;241m=\u001b[39m \u001b[38;5;124m'\u001b[39m\u001b[38;5;124mis\u001b[39m\u001b[38;5;124m'\u001b[39m\n\u001b[1;32m      4\u001b[0m my_list\n",
            "\u001b[0;31mNameError\u001b[0m: name 'my_list' is not defined"
          ]
        }
      ],
      "source": [
        "# list example\n",
        "my_list[0] = 'This' # indexing starts at 0 (0-indexing)\n",
        "my_list[1] = 'is'\n",
        "my_list"
      ]
    },
    {
      "cell_type": "code",
      "execution_count": null,
      "metadata": {
        "id": "fLro2cb8zcu_",
        "outputId": "018dde54-9789-41db-e4f9-ba1482d09ac8"
      },
      "outputs": [
        {
          "data": {
            "text/plain": [
              "'This'"
            ]
          },
          "execution_count": 25,
          "metadata": {},
          "output_type": "execute_result"
        }
      ],
      "source": [
        "my_list[0]"
      ]
    },
    {
      "cell_type": "code",
      "execution_count": null,
      "metadata": {
        "id": "kDvXx8O0zcu_",
        "outputId": "89e2ce41-2a14-459e-a8b7-376224d3bcb2"
      },
      "outputs": [
        {
          "ename": "NameError",
          "evalue": "name 'my_list' is not defined",
          "output_type": "error",
          "traceback": [
            "\u001b[0;31m---------------------------------------------------------------------------\u001b[0m",
            "\u001b[0;31mNameError\u001b[0m                                 Traceback (most recent call last)",
            "Cell \u001b[0;32mIn[22], line 1\u001b[0m\n\u001b[0;32m----> 1\u001b[0m my_list\u001b[38;5;241m.\u001b[39mappend(\u001b[38;5;124m'\u001b[39m\u001b[38;5;124mwith\u001b[39m\u001b[38;5;124m'\u001b[39m) \u001b[38;5;66;03m# add to a list with the append method\u001b[39;00m\n\u001b[1;32m      2\u001b[0m my_list\u001b[38;5;241m.\u001b[39mappend(\u001b[38;5;124m'\u001b[39m\u001b[38;5;124mextra\u001b[39m\u001b[38;5;124m'\u001b[39m) \u001b[38;5;66;03m# note that we do not need to assign using =\u001b[39;00m\n\u001b[1;32m      3\u001b[0m my_list\u001b[38;5;241m.\u001b[39mappend(\u001b[38;5;124m'\u001b[39m\u001b[38;5;124melements\u001b[39m\u001b[38;5;124m'\u001b[39m)\n",
            "\u001b[0;31mNameError\u001b[0m: name 'my_list' is not defined"
          ]
        }
      ],
      "source": [
        "my_list.append('with') # add to a list with the append method\n",
        "my_list.append('extra') # note that we do not need to assign using =\n",
        "my_list.append('elements')\n",
        "\n",
        "my_list"
      ]
    },
    {
      "cell_type": "code",
      "execution_count": null,
      "metadata": {
        "id": "cBxnUdEYzcu_",
        "outputId": "2ec7a174-9041-469b-ec10-f3ad833d0555"
      },
      "outputs": [
        {
          "data": {
            "text/plain": [
              "{'A': 'alpha', 'B': 'bravo', 'C': 'charlie'}"
            ]
          },
          "execution_count": 27,
          "metadata": {},
          "output_type": "execute_result"
        }
      ],
      "source": [
        "# dictionary example\n",
        "my_dict = {'A': 'alpha', 'B': 'bravo'} # curly brackets create dictionaries\n",
        "my_dict['C'] = 'charlie' # adding a new key-value pair\n",
        "my_dict"
      ]
    },
    {
      "cell_type": "code",
      "execution_count": null,
      "metadata": {
        "id": "kt_yQ0rOzcu_",
        "outputId": "8749384d-995c-45b3-d4a2-597da2d61ac1"
      },
      "outputs": [
        {
          "data": {
            "text/plain": [
              "'charlie'"
            ]
          },
          "execution_count": 28,
          "metadata": {},
          "output_type": "execute_result"
        }
      ],
      "source": [
        "# here, we call C the 'key' (which is slightly different to an index,\n",
        "# mainly because it cannot be sliced) and charlie the 'value'\n",
        "my_dict['C']"
      ]
    },
    {
      "cell_type": "code",
      "execution_count": null,
      "metadata": {
        "id": "JA-mzv-yzcu_",
        "outputId": "9e2caf8c-04e2-45fc-f692-619f162b2be9"
      },
      "outputs": [
        {
          "ename": "TypeError",
          "evalue": "'tuple' object does not support item assignment",
          "output_type": "error",
          "traceback": [
            "\u001b[0;31m---------------------------------------------------------------------------\u001b[0m",
            "\u001b[0;31mTypeError\u001b[0m                                 Traceback (most recent call last)",
            "Cell \u001b[0;32mIn[23], line 3\u001b[0m\n\u001b[1;32m      1\u001b[0m \u001b[38;5;66;03m# tuple example\u001b[39;00m\n\u001b[1;32m      2\u001b[0m my_tup \u001b[38;5;241m=\u001b[39m (\u001b[38;5;124m'\u001b[39m\u001b[38;5;124mI\u001b[39m\u001b[38;5;124m'\u001b[39m, \u001b[38;5;124m'\u001b[39m\u001b[38;5;124mam\u001b[39m\u001b[38;5;124m'\u001b[39m, \u001b[38;5;124m'\u001b[39m\u001b[38;5;124mimmutable\u001b[39m\u001b[38;5;124m'\u001b[39m)\n\u001b[0;32m----> 3\u001b[0m my_tup[\u001b[38;5;241m2\u001b[39m] \u001b[38;5;241m=\u001b[39m \u001b[38;5;124m'\u001b[39m\u001b[38;5;124mmutable\u001b[39m\u001b[38;5;124m'\u001b[39m\n",
            "\u001b[0;31mTypeError\u001b[0m: 'tuple' object does not support item assignment"
          ]
        }
      ],
      "source": [
        "# tuple example\n",
        "my_tup = ('I', 'am', 'immutable')\n",
        "my_tup[2] = 'mutable' # this will throw an error"
      ]
    },
    {
      "cell_type": "code",
      "execution_count": null,
      "metadata": {
        "id": "WpuKU8PGzcvA",
        "outputId": "a6837911-d215-450b-b234-34fa4bfac97f"
      },
      "outputs": [
        {
          "data": {
            "text/plain": [
              "('I', 'am', 'a', 'tuple')"
            ]
          },
          "execution_count": 30,
          "metadata": {},
          "output_type": "execute_result"
        }
      ],
      "source": [
        "# two or more items separated by commas are automatically a tuple\n",
        "new_tup = 'I', 'am', 'a', 'tuple'\n",
        "new_tup"
      ]
    },
    {
      "cell_type": "code",
      "execution_count": null,
      "metadata": {
        "id": "mnuAHbeGzcvB",
        "outputId": "586dd6e7-89c1-469d-cbfa-8f338ad88026"
      },
      "outputs": [
        {
          "data": {
            "text/plain": [
              "(('I', 'am', 'immutable'), ('I', 'am', 'a', 'tuple'))"
            ]
          },
          "execution_count": 31,
          "metadata": {},
          "output_type": "execute_result"
        }
      ],
      "source": [
        "# this can also be useful for showing multiple values on the last line of a cell:\n",
        "my_tup, new_tup"
      ]
    },
    {
      "cell_type": "code",
      "execution_count": null,
      "metadata": {
        "id": "F1y21hBqzcvB",
        "outputId": "3cb7b0aa-5425-4543-c8ed-1083521dda46"
      },
      "outputs": [
        {
          "data": {
            "text/plain": [
              "[0, 1, 2, 3, 4, 5, 6, 7, 8, 9]"
            ]
          },
          "execution_count": 32,
          "metadata": {},
          "output_type": "execute_result"
        }
      ],
      "source": [
        "# if you need to get a series of increasing integers, you can use range() and cast it to a list\n",
        "list(range(10))"
      ]
    },
    {
      "cell_type": "code",
      "execution_count": null,
      "metadata": {
        "id": "OXNDUYhNzcvB",
        "outputId": "3e4a0850-ffb5-441d-bf14-80010c8912ef"
      },
      "outputs": [
        {
          "data": {
            "text/plain": [
              "[5, 6, 7, 8, 9]"
            ]
          },
          "execution_count": 33,
          "metadata": {},
          "output_type": "execute_result"
        }
      ],
      "source": [
        "list(range(5, 10))"
      ]
    },
    {
      "cell_type": "code",
      "execution_count": null,
      "metadata": {
        "id": "ghVSkAFPzcvC",
        "outputId": "7155a991-a3d7-408c-eb00-b4e98871fbca"
      },
      "outputs": [
        {
          "data": {
            "text/plain": [
              "6.5"
            ]
          },
          "execution_count": 24,
          "metadata": {},
          "output_type": "execute_result"
        }
      ],
      "source": [
        "# you can sum and get the max and min of numerical lists\n",
        "sum([1, 2.5, 3])"
      ]
    },
    {
      "cell_type": "code",
      "execution_count": null,
      "metadata": {
        "id": "W3PsakSlzcvM",
        "outputId": "fe213c21-d5de-4f94-ad7a-8e4809f3ac4a"
      },
      "outputs": [
        {
          "data": {
            "text/plain": [
              "9"
            ]
          },
          "execution_count": 25,
          "metadata": {},
          "output_type": "execute_result"
        }
      ],
      "source": [
        "max([9, 7, 8])"
      ]
    },
    {
      "cell_type": "code",
      "execution_count": null,
      "metadata": {
        "id": "8wpMUJrUzcvM",
        "outputId": "49a5ff45-2a64-4fba-ad6f-8d6eb731a52b"
      },
      "outputs": [
        {
          "data": {
            "text/plain": [
              "7"
            ]
          },
          "execution_count": 26,
          "metadata": {},
          "output_type": "execute_result"
        }
      ],
      "source": [
        "min([9, 7, 8])"
      ]
    },
    {
      "cell_type": "markdown",
      "metadata": {
        "id": "u4aFir3YzcvN"
      },
      "source": [
        "#### Exercises\n",
        "\n",
        "Using the above as hints:\n",
        "\n",
        "1. Write some numbers into a list and use `sorted()` to sort them. Look up how to get them in reverse order!\n",
        "2. Write a numerical list (including both integers and floats) and calculate the mean of those numbers from the list\n",
        "3. Create a dictionary with a numerical index and sort it. What happens?\n",
        "4. Now create a list with mixed numerical and string types and try to sort it. What happens? Can you understand why? Prove to yourself that the same thing happens if you use the same mixture of types as dictionary keys"
      ]
    },
    {
      "cell_type": "code",
      "execution_count": null,
      "metadata": {
        "id": "2bY9U1duzcvN"
      },
      "outputs": [],
      "source": [
        "# Put your answers here (Esc > 'b' to add more cells)"
      ]
    },
    {
      "cell_type": "markdown",
      "metadata": {
        "id": "wdeHx3TtzcvN"
      },
      "source": [
        "### Slices\n",
        "\n",
        "- Any collection with order can be slices\n",
        "- Slices have the form `start:stop:step`"
      ]
    },
    {
      "cell_type": "code",
      "execution_count": null,
      "metadata": {
        "id": "vsOTkIcCzcvN",
        "outputId": "df924596-2731-4e12-d3f3-8d4ca8c87a3a"
      },
      "outputs": [
        {
          "data": {
            "text/plain": [
              "'I am a string'"
            ]
          },
          "execution_count": 28,
          "metadata": {},
          "output_type": "execute_result"
        }
      ],
      "source": [
        "my_str = 'I am a string'\n",
        "my_str"
      ]
    },
    {
      "cell_type": "code",
      "execution_count": null,
      "metadata": {
        "id": "o3jSh9PyzcvN",
        "outputId": "9b94540d-b51f-4763-a915-d010a36e5f1a"
      },
      "outputs": [
        {
          "data": {
            "text/plain": [
              "'Im rg'"
            ]
          },
          "execution_count": 29,
          "metadata": {},
          "output_type": "execute_result"
        }
      ],
      "source": [
        "my_str[::3]"
      ]
    },
    {
      "cell_type": "code",
      "execution_count": null,
      "metadata": {
        "id": "1NVuX7wPzcvO",
        "outputId": "c80549a9-8198-4cba-f824-036b4e0ca0ea"
      },
      "outputs": [
        {
          "data": {
            "text/plain": [
              "'I am a'"
            ]
          },
          "execution_count": 30,
          "metadata": {},
          "output_type": "execute_result"
        }
      ],
      "source": [
        "my_str[:6]"
      ]
    },
    {
      "cell_type": "code",
      "execution_count": null,
      "metadata": {
        "id": "pXCAk3KzzcvO",
        "outputId": "b965738a-6f33-4912-8ddc-0171efa2cddd"
      },
      "outputs": [
        {
          "data": {
            "text/plain": [
              "'I am a stri'"
            ]
          },
          "execution_count": 31,
          "metadata": {},
          "output_type": "execute_result"
        }
      ],
      "source": [
        "my_str[:-2]"
      ]
    },
    {
      "cell_type": "code",
      "execution_count": null,
      "metadata": {
        "id": "nasSNeCFzcvO",
        "outputId": "fc261ead-8e04-4b2b-cff0-f6ddf7165314"
      },
      "outputs": [
        {
          "data": {
            "text/plain": [
              "'gnirts a'"
            ]
          },
          "execution_count": 32,
          "metadata": {},
          "output_type": "execute_result"
        }
      ],
      "source": [
        "my_str[:4:-1]"
      ]
    },
    {
      "cell_type": "markdown",
      "metadata": {
        "id": "Q4YM_McWzcvO"
      },
      "source": [
        "#### Exercises\n",
        "\n",
        "Using the above as hints:\n",
        "\n",
        "1. Create a string and experiment with different slices of it.\n",
        "    * Make sure you understand how this works with positive numbers\n",
        "    * Then experiment with negative numbers\n",
        "2. Create and do the same with a list, and observe the similarity\n",
        "3. Create a dictionary and attempt to slice. Why doesn't this work?"
      ]
    },
    {
      "cell_type": "code",
      "execution_count": null,
      "metadata": {
        "id": "9i2Kp4rSzcvO"
      },
      "outputs": [],
      "source": [
        "# Put your answers here (Esc > 'b' to add more cells)"
      ]
    },
    {
      "cell_type": "markdown",
      "metadata": {
        "id": "iCagBA49zcvO"
      },
      "source": [
        "### Functions\n",
        "\n",
        "- A function is an object which does something\n",
        "    - E.g. `overEighteen(age)`\n",
        "        - Which operator would you use from the list to the right?\n",
        "    - Many functions already exist, and you can make your own\n",
        "- Most Python objects have functions attached to them – these are called methods\n",
        "- Operators are also functions that are made convenient to use\n"
      ]
    },
    {
      "cell_type": "code",
      "execution_count": null,
      "metadata": {
        "id": "JiFSM6u3zcvP",
        "outputId": "8444761a-94f9-496c-b134-4f579194eeaf"
      },
      "outputs": [
        {
          "data": {
            "text/plain": [
              "(True, False)"
            ]
          },
          "execution_count": 34,
          "metadata": {},
          "output_type": "execute_result"
        }
      ],
      "source": [
        "def overEighteen(age):\n",
        "    return age > 18\n",
        "\n",
        "overEighteen(23), overEighteen(17)"
      ]
    },
    {
      "cell_type": "markdown",
      "metadata": {
        "id": "SbsrSiZzzcvP"
      },
      "source": [
        "#### Exercises\n",
        "\n",
        "Using the above as hints:\n",
        "\n",
        "1. Earlier on, you calculated the mean of a list of numbers. Write a function with does this, and use it on two different lists that you create.\n",
        "2. Define a numerical variable, and write a function with no inputs that squares that variable. See what happens when you run in multiple times. This type of use of a function is called a 'side-effect'ing function as opposed to a 'functional' function which has every variable it uses as an input and returns all its results as outputs\n",
        "3. Think about, and write into a comment, whether side-effecting or functional functions are better, and why? When most people get to here, we will stop to have a brief discussion about this, so be ready to give your opinion!"
      ]
    },
    {
      "cell_type": "code",
      "execution_count": null,
      "metadata": {
        "id": "Uf-ZftjVzcvP"
      },
      "outputs": [],
      "source": [
        "# Put your answers here (Esc > 'b' to add more cells)"
      ]
    },
    {
      "cell_type": "markdown",
      "metadata": {
        "id": "TCf7191NzcvP"
      },
      "source": [
        "### Flow Control"
      ]
    },
    {
      "cell_type": "code",
      "execution_count": null,
      "metadata": {
        "id": "cOCirYmmzcvP",
        "outputId": "b7fec612-6b19-4800-f0e1-ed2ea11d5f00"
      },
      "outputs": [
        {
          "name": "stdout",
          "output_type": "stream",
          "text": [
            "You are an adult\n"
          ]
        }
      ],
      "source": [
        "age = 23\n",
        "\n",
        "# If\n",
        "if age > 18:\n",
        "    print(\"You are an adult\")\n",
        "elif age == 18:\n",
        "    print(\"You are (just barely) an adult\")\n",
        "else:\n",
        "    print(\"You are not an adult\")"
      ]
    },
    {
      "cell_type": "code",
      "source": [
        "age = 13\n",
        "if age > 18:\n",
        "  print(\"Adult\")\n",
        "elif age == 18:\n",
        "  print(\"Just barely\")\n",
        "else:\n",
        "  print(\"Not adult\")"
      ],
      "metadata": {
        "id": "KDjRqdWzztLi",
        "outputId": "56520736-0a70-405f-efb6-b13cd999ccbd",
        "colab": {
          "base_uri": "https://localhost:8080/"
        }
      },
      "execution_count": 1,
      "outputs": [
        {
          "output_type": "stream",
          "name": "stdout",
          "text": [
            "Not adult\n"
          ]
        }
      ]
    },
    {
      "cell_type": "code",
      "execution_count": null,
      "metadata": {
        "id": "pupZwOgazcvP",
        "outputId": "60717bb7-a36a-44b2-994e-54ba5b4fa6fa"
      },
      "outputs": [
        {
          "name": "stdout",
          "output_type": "stream",
          "text": [
            "0\n",
            "1\n",
            "2\n",
            "3\n",
            "4\n"
          ]
        }
      ],
      "source": [
        "# For\n",
        "for i in range(5):\n",
        "    print(i)\n",
        "# range() is a special type of object - you can loop over it, or turn it\n",
        "# into a list, but until you do either of those things it can't really\n",
        "# be used for anything\n",
        "\n",
        "# also, notice that range() inputs work the same way as slices!"
      ]
    },
    {
      "cell_type": "code",
      "source": [
        "for i in range(1, 11, 2):\n",
        "  print(i)\n"
      ],
      "metadata": {
        "id": "e3ppFm-R0YIp",
        "outputId": "bc758cfe-c2f6-48ad-e007-e5310dba6636",
        "colab": {
          "base_uri": "https://localhost:8080/"
        }
      },
      "execution_count": 6,
      "outputs": [
        {
          "output_type": "stream",
          "name": "stdout",
          "text": [
            "1\n",
            "3\n",
            "5\n",
            "7\n",
            "9\n"
          ]
        }
      ]
    },
    {
      "cell_type": "code",
      "source": [
        "for i in range(10,2, -2):\n",
        "  print(i)"
      ],
      "metadata": {
        "id": "IfebJROE049R",
        "outputId": "0edc041c-e1f7-412b-ba7a-7ac70276f1f0",
        "colab": {
          "base_uri": "https://localhost:8080/"
        }
      },
      "execution_count": 11,
      "outputs": [
        {
          "output_type": "stream",
          "name": "stdout",
          "text": [
            "10\n",
            "8\n",
            "6\n",
            "4\n"
          ]
        }
      ]
    },
    {
      "cell_type": "code",
      "execution_count": null,
      "metadata": {
        "id": "1vj6lxhCzcvQ",
        "outputId": "7b57f133-89f9-425b-a939-336caed547de"
      },
      "outputs": [
        {
          "name": "stdout",
          "output_type": "stream",
          "text": [
            "0\n",
            "1\n",
            "2\n",
            "3\n",
            "4\n"
          ]
        }
      ],
      "source": [
        "# While\n",
        "i = 0\n",
        "while i < 5:\n",
        "    print(i)\n",
        "    i += 1 # i = i + 1"
      ]
    },
    {
      "cell_type": "code",
      "source": [
        "i=0\n",
        "while i < 11:\n",
        "  print(i)\n",
        "  i += 2"
      ],
      "metadata": {
        "id": "LOVaVlbP1Hts",
        "outputId": "c69f9212-4138-4035-f085-e8bbfbe6f085",
        "colab": {
          "base_uri": "https://localhost:8080/"
        }
      },
      "execution_count": 12,
      "outputs": [
        {
          "output_type": "stream",
          "name": "stdout",
          "text": [
            "0\n",
            "2\n",
            "4\n",
            "6\n",
            "8\n",
            "10\n"
          ]
        }
      ]
    },
    {
      "cell_type": "code",
      "source": [
        "i=1\n",
        "while i < 11:\n",
        "  print(i)\n",
        "  i += 2"
      ],
      "metadata": {
        "id": "tOFbDPyc1VCD",
        "outputId": "06fff314-6c31-4e13-94af-ee53359c6038",
        "colab": {
          "base_uri": "https://localhost:8080/"
        }
      },
      "execution_count": 13,
      "outputs": [
        {
          "output_type": "stream",
          "name": "stdout",
          "text": [
            "1\n",
            "3\n",
            "5\n",
            "7\n",
            "9\n"
          ]
        }
      ]
    },
    {
      "cell_type": "markdown",
      "metadata": {
        "id": "0LafW9_QzcvQ"
      },
      "source": [
        "#### Exercises\n",
        "\n",
        "Using the above as hints:\n",
        "\n",
        "1. Write a function which checks if the input number is prime. Feel free to use the internet for help, but make sure you understand the solution\n",
        "2. Using the above function, make a function that checks if each successive number (0, 1, 2, 3...) up to the input is prime, and writes that information into a dictionary where the key is the number and the value is whether it is prime or not. See how large of a number you can put in and still a result reasonably quickly!"
      ]
    },
    {
      "cell_type": "code",
      "execution_count": 16,
      "metadata": {
        "id": "9QhZCcUVzcvR",
        "outputId": "960ee0c1-8554-4d52-c49d-8aa36075f54a",
        "colab": {
          "base_uri": "https://localhost:8080/"
        }
      },
      "outputs": [
        {
          "output_type": "stream",
          "name": "stdout",
          "text": [
            "False\n"
          ]
        }
      ],
      "source": [
        "def if_prime(num):\n",
        "  if num < 1:\n",
        "    return False\n",
        "  for i in range(2, int(float(num)**0.5)+1):\n",
        "    if num % i == 0:\n",
        "      return False\n",
        "  return True\n",
        "\n",
        "print(if_prime(16))"
      ]
    },
    {
      "cell_type": "code",
      "source": [
        "# check for each number upto a certain input whether it is prime or not\n",
        "def check_primes(limit):\n",
        "  results = []\n",
        "  for i in range(limit + 1):\n",
        "    results.append((i,if_prime(i)))\n",
        "  return results\n",
        "def if_prime(num):\n",
        "  if num < 1:\n",
        "    return False\n",
        "  for i in range(2, int(float(num)**0.5)+1):\n",
        "    if num % i == 0:\n",
        "      return False\n",
        "  return True\n",
        "\n",
        "print(check_primes(10))"
      ],
      "metadata": {
        "id": "HVMaBUBy4g7C",
        "outputId": "5574ae8f-d9b6-4883-989f-fcda72497c70",
        "colab": {
          "base_uri": "https://localhost:8080/"
        }
      },
      "execution_count": 5,
      "outputs": [
        {
          "output_type": "stream",
          "name": "stdout",
          "text": [
            "[(0, False), (1, True), (2, True), (3, True), (4, False), (5, True), (6, False), (7, True), (8, False), (9, False), (10, False)]\n"
          ]
        }
      ]
    },
    {
      "cell_type": "code",
      "source": [
        "def check_prime(upper):\n",
        "  answer = []\n",
        "  for i in range(upper):\n",
        "    answer.append((i,if_prime(i)))\n",
        "  return answer\n",
        "\n",
        "def if_prime(num):\n",
        "  if num<=1:\n",
        "    return False\n",
        "  for i in range(2,int(float(num)**0.5)+1):\n",
        "    if num % i == 0:\n",
        "      return False\n",
        "  return True\n",
        "\n",
        "print(check_prime(5))"
      ],
      "metadata": {
        "id": "lL2k1NHkfSoQ",
        "outputId": "21e1ea5c-f99b-40f6-f7f8-e3914a678071",
        "colab": {
          "base_uri": "https://localhost:8080/"
        }
      },
      "execution_count": 13,
      "outputs": [
        {
          "output_type": "stream",
          "name": "stdout",
          "text": [
            "[(0, False), (1, False), (2, True), (3, True), (4, False)]\n"
          ]
        }
      ]
    },
    {
      "cell_type": "code",
      "source": [
        "def dict_primes(upper):\n",
        "  primes = {}\n",
        "  for number in range(upper+1):\n",
        "    primes[number] = if_prime(number)\n",
        "  return primes\n",
        "results = dict_primes(10)\n",
        "print(results)"
      ],
      "metadata": {
        "id": "ysCETyiRh7J0",
        "outputId": "450f9255-ff1f-4099-9827-8d2219dd39a1",
        "colab": {
          "base_uri": "https://localhost:8080/"
        }
      },
      "execution_count": 14,
      "outputs": [
        {
          "output_type": "stream",
          "name": "stdout",
          "text": [
            "{0: False, 1: False, 2: True, 3: True, 4: False, 5: True, 6: False, 7: True, 8: False, 9: False, 10: False}\n"
          ]
        }
      ]
    },
    {
      "cell_type": "markdown",
      "metadata": {
        "id": "6U99S0MVzcvR"
      },
      "source": [
        "### Imports\n",
        "\n",
        "- You can import packages in Python\n",
        "- Some are built into Python, like `datetime`, `os` and `time`\n",
        "    - `datetime` provides tools for working with… you guessed it (dates and times)\n",
        "    - `os` allows interaction with operating system\n",
        "    - `time` allow you to time things in Python\n",
        "    - These are just some examples, there are *far* too many to go through them all\n",
        "- Others, like numpy and pandas, are not\n",
        "    - These need to be installed\n",
        "- Python comes with a tool called ‘pip’ for installing packages\n"
      ]
    },
    {
      "cell_type": "code",
      "execution_count": 15,
      "metadata": {
        "id": "KkqkuAywzcvR",
        "outputId": "ebbafbde-0bd9-4a6b-b85a-3d4b01ff03ab",
        "colab": {
          "base_uri": "https://localhost:8080/"
        }
      },
      "outputs": [
        {
          "output_type": "execute_result",
          "data": {
            "text/plain": [
              "datetime.datetime(2025, 3, 18, 18, 40, 27, 789355)"
            ]
          },
          "metadata": {},
          "execution_count": 15
        }
      ],
      "source": [
        "import datetime\n",
        "datetime.datetime.now()"
      ]
    },
    {
      "cell_type": "code",
      "source": [
        "import datetime as dt\n",
        "dt.datetime.now()"
      ],
      "metadata": {
        "id": "kS48x9XB3IXG",
        "outputId": "a039bf88-f157-4b61-f25d-5e8b3803186f",
        "colab": {
          "base_uri": "https://localhost:8080/"
        }
      },
      "execution_count": 16,
      "outputs": [
        {
          "output_type": "execute_result",
          "data": {
            "text/plain": [
              "datetime.datetime(2025, 3, 18, 18, 40, 27, 798503)"
            ]
          },
          "metadata": {},
          "execution_count": 16
        }
      ]
    },
    {
      "cell_type": "code",
      "execution_count": 17,
      "metadata": {
        "id": "aqfXNV3uzcvS",
        "outputId": "2a3507d6-8026-4112-f809-c2d9f1ea6dc2",
        "colab": {
          "base_uri": "https://localhost:8080/",
          "height": 36
        }
      },
      "outputs": [
        {
          "output_type": "execute_result",
          "data": {
            "text/plain": [
              "'/content'"
            ],
            "application/vnd.google.colaboratory.intrinsic+json": {
              "type": "string"
            }
          },
          "metadata": {},
          "execution_count": 17
        }
      ],
      "source": [
        "import os\n",
        "os.path.abspath('.') # . means 'here'"
      ]
    },
    {
      "cell_type": "code",
      "source": [
        "import os\n",
        "os.path.abspath('.')"
      ],
      "metadata": {
        "id": "S2eE4y_n3mn5",
        "outputId": "3f8eed7b-a7cd-453f-e940-db90f14972cc",
        "colab": {
          "base_uri": "https://localhost:8080/",
          "height": 36
        }
      },
      "execution_count": 18,
      "outputs": [
        {
          "output_type": "execute_result",
          "data": {
            "text/plain": [
              "'/content'"
            ],
            "application/vnd.google.colaboratory.intrinsic+json": {
              "type": "string"
            }
          },
          "metadata": {},
          "execution_count": 18
        }
      ]
    },
    {
      "cell_type": "code",
      "execution_count": 19,
      "metadata": {
        "id": "srIPiCB1zcvS",
        "outputId": "45ef5e49-b5b0-4a79-ac1c-71591c17c154",
        "colab": {
          "base_uri": "https://localhost:8080/",
          "height": 36
        }
      },
      "outputs": [
        {
          "output_type": "execute_result",
          "data": {
            "text/plain": [
              "'Summing to integers to one billion took 21.619099 seconds (result = 499999999500000000)'"
            ],
            "application/vnd.google.colaboratory.intrinsic+json": {
              "type": "string"
            }
          },
          "metadata": {},
          "execution_count": 19
        }
      ],
      "source": [
        "import time\n",
        "start = time.perf_counter()\n",
        "total = sum(range(int(1e9)))\n",
        "end = time.perf_counter()\n",
        "f\"Summing to integers to one billion took {end-start:.6f} seconds (result = {total})\""
      ]
    },
    {
      "cell_type": "code",
      "source": [
        "import time\n",
        "start = time.perf_counter()\n",
        "total = sum(range(int(1e4)))\n",
        "end = time.perf_counter()\n",
        "f\"Summing to integers to ten thousand took {end-start:.6f} seconds (result= {total})\""
      ],
      "metadata": {
        "id": "4gysVA8o3sqq",
        "outputId": "50bdd233-a465-455e-bd75-261388b3317e",
        "colab": {
          "base_uri": "https://localhost:8080/",
          "height": 36
        }
      },
      "execution_count": 20,
      "outputs": [
        {
          "output_type": "execute_result",
          "data": {
            "text/plain": [
              "'Summing to integers to ten thousand took 0.000271 seconds (result= 49995000)'"
            ],
            "application/vnd.google.colaboratory.intrinsic+json": {
              "type": "string"
            }
          },
          "metadata": {},
          "execution_count": 20
        }
      ]
    },
    {
      "cell_type": "code",
      "execution_count": 21,
      "metadata": {
        "id": "usT9E51ozcvS",
        "outputId": "629023da-1df3-48d4-ab61-40dba837a72c",
        "colab": {
          "base_uri": "https://localhost:8080/"
        }
      },
      "outputs": [
        {
          "output_type": "stream",
          "name": "stdout",
          "text": [
            "hello world\n"
          ]
        }
      ],
      "source": [
        "print(\"hello world\")"
      ]
    },
    {
      "cell_type": "markdown",
      "metadata": {
        "id": "JI1yWcuWzcvT"
      },
      "source": [
        "#### Exercises\n",
        "\n",
        "Using the above as hints:\n",
        "\n",
        "1. Rewrite your answer to Q2 in the previous section so that instead of the dictionary value showing whether that number is prime or not, it now shows how long it took to determine if that number was prime.\n",
        "2. Now write a function that tells you which number is the largest number whose primeness can be checked in under 10 seconds. The answer may be slightly, or even a lot different each time you run it! This is because everything else happening inside the computer can affect how much time large operations take"
      ]
    },
    {
      "cell_type": "code",
      "execution_count": 23,
      "metadata": {
        "id": "FD-galHLzcvT",
        "outputId": "287c3b98-ea7c-4719-9168-a81b19598498",
        "colab": {
          "base_uri": "https://localhost:8080/"
        }
      },
      "outputs": [
        {
          "output_type": "stream",
          "name": "stdout",
          "text": [
            "{0: 2.27999998969608e-06, 1: 5.500000952451956e-07, 2: 7.380000170087442e-06, 3: 1.1800002539530396e-06, 4: 1.5999999050109182e-06, 5: 1.1180000001331791e-06, 6: 7.700000423938036e-07, 7: 1.5650002751499414e-06, 8: 8.619999789516442e-07, 9: 1.3359999684325885e-06, 10: 1.6309995771734975e-06}\n"
          ]
        }
      ],
      "source": [
        "# output: time taken to determine if the number\n",
        "def time_to_generate_primes(upper):\n",
        "  prime_dict = {}\n",
        "  for i in range(upper+1):\n",
        "    start = time.perf_counter()\n",
        "    prime_dict[i] = if_prime(i)\n",
        "    end = time.perf_counter()\n",
        "    prime_dict[i] = end-start\n",
        "  return prime_dict\n",
        "\n",
        "print(time_to_generate_primes(10))"
      ]
    },
    {
      "cell_type": "code",
      "source": [
        "import time\n",
        "def prime_time(upper):\n",
        "  prime_dict = {}\n",
        "  for i in range(upper+1):\n",
        "    start = time.perf_counter()\n",
        "    prime_dict[i] = if_prime(i)\n",
        "    end = time.perf_counter()\n",
        "    prime_dict[i] = end-start\n",
        "  return prime_dict\n",
        "\n",
        "def if_prime(num):\n",
        "  if num<= 1:\n",
        "    return False\n",
        "  for i in range(2,int(float(num)**0.5)):\n",
        "    if num%i == 0:\n",
        "      return False\n",
        "    return True\n",
        "  return True\n",
        "\n",
        "print(prime_time(100))\n",
        "'''\n",
        "end-start = time_limit\n",
        "def max_time(prime_dict):\n",
        "  for i in range(upper+1):\n",
        "    if\n",
        "\n",
        "\n",
        "\n",
        "'''"
      ],
      "metadata": {
        "id": "yGEJlFkamrMy",
        "outputId": "061c71f7-fedc-431e-9fb0-1d63a9b16945",
        "colab": {
          "base_uri": "https://localhost:8080/"
        }
      },
      "execution_count": 4,
      "outputs": [
        {
          "output_type": "stream",
          "name": "stdout",
          "text": [
            "{0: 9.350000027552596e-07, 1: 5.759999908150348e-07, 2: 8.763999971961312e-06, 3: 1.2300000094001007e-06, 4: 6.439999538088159e-07, 5: 1.419000000169035e-06, 6: 7.399999617518915e-07, 7: 3.0960000003688037e-06, 8: 9.599999657439184e-07, 9: 1.7269999830205052e-06, 10: 1.08200003978709e-06, 11: 7.920000371086644e-07, 12: 5.730000225412368e-07, 13: 8.019999881980766e-07, 14: 6.700000199089118e-07, 15: 7.820000291758333e-07, 16: 5.630000146084058e-07, 17: 9.510000040791056e-07, 18: 7.209999921542476e-07, 19: 7.940000159578631e-07, 20: 5.229999828770815e-07, 21: 1.7870000306174916e-06, 22: 7.209999921542476e-07, 23: 7.730000106676016e-07, 24: 5.020000344302389e-07, 25: 6.559999974342645e-07, 26: 5.680000185748213e-07, 27: 9.180000120068144e-07, 28: 6.409999855350179e-07, 29: 7.779999577905983e-07, 30: 6.620000476686982e-07, 31: 9.420000424142927e-07, 32: 5.269999974188977e-07, 33: 6.829999961155409e-07, 34: 5.079999709778349e-07, 35: 6.810000172663422e-07, 36: 5.169999894860666e-07, 37: 6.6100000140068e-07, 38: 7.670000172765867e-07, 39: 5.269999974188977e-07, 40: 6.299999881775875e-07, 41: 6.540000185850658e-07, 42: 1.1469999776636541e-06, 43: 5.459999670165416e-07, 44: 6.630000370932976e-07, 45: 6.570000437022827e-07, 46: 9.240000053978292e-07, 47: 6.479999683506321e-07, 48: 5.329999908099126e-07, 49: 7.759999789413996e-07, 50: 5.350000265025301e-07, 51: 6.440000106522348e-07, 52: 5.119999855196511e-07, 53: 7.889999551480287e-07, 54: 5.399999736255268e-07, 55: 6.820000066909415e-07, 56: 5.359999590837106e-07, 57: 6.570000437022827e-07, 58: 5.100000066704524e-07, 59: 5.260000079942984e-07, 60: 6.820000066909415e-07, 61: 7.999999525054591e-07, 62: 6.239999947865726e-07, 63: 5.51000027826376e-07, 64: 5.53999996100174e-07, 65: 5.17999978910666e-07, 66: 6.309999776021868e-07, 67: 5.389999842009274e-07, 68: 5.109999960950518e-07, 69: 5.149999537934491e-07, 70: 5.290000331115152e-07, 71: 5.389999842009274e-07, 72: 5.070000383966544e-07, 73: 5.180000357540848e-07, 74: 5.079999709778349e-07, 75: 6.690000304843124e-07, 76: 6.270000199037895e-07, 77: 5.189999683352653e-07, 78: 5.329999908099126e-07, 79: 5.200000146032835e-07, 80: 5.069999815532356e-07, 81: 5.190000251786842e-07, 82: 5.310000119607139e-07, 83: 5.249999617262802e-07, 84: 6.410000423784368e-07, 85: 1.940999993621517e-06, 86: 6.039999789209105e-07, 87: 5.429999987427436e-07, 88: 5.109999960950518e-07, 89: 6.369999709932017e-07, 90: 5.160000000614673e-07, 91: 5.780000265076524e-07, 92: 5.160000000614673e-07, 93: 6.440000106522348e-07, 94: 5.129999749442504e-07, 95: 5.420000093181443e-07, 96: 5.069999815532356e-07, 97: 6.500000040432496e-07, 98: 5.329999908099126e-07, 99: 5.229999828770815e-07, 100: 5.25000018569699e-07}\n"
          ]
        }
      ]
    },
    {
      "cell_type": "code",
      "source": [
        "import time\n",
        "import sympy\n",
        "\n",
        "# can_check_prime() returns time that is less than time limit\n",
        "def can_check_prime(n, time_limit=10):\n",
        "    \"\"\"Returns True if the primality of n can be checked within time_limit seconds.\"\"\"\n",
        "    start_time = time.time()\n",
        "    sympy.isprime(n)  # sympy's isprime uses optimized methods\n",
        "    return (time.time() - start_time) < time_limit\n",
        "\n",
        "def find_largest_checkable_prime(start=10**18, time_limit=10):\n",
        "  # starts at 10^18 (adjustable) and works downward if needed\n",
        "    \"\"\"Finds the largest number whose primality can be checked within time_limit seconds.\"\"\"\n",
        "    low, high = 2, start\n",
        "    best = 2\n",
        "\n",
        "    while low <= high:\n",
        "        mid = (low + high) // 2\n",
        "        if can_check_prime(mid, time_limit):\n",
        "            best = mid  # Update the best found\n",
        "            low = mid + 1  # Try a larger number\n",
        "        else:\n",
        "            high = mid - 1  # Try a smaller number\n",
        "\n",
        "    return best\n",
        "\n",
        "# Example usage:\n",
        "largest_prime = find_largest_checkable_prime()\n",
        "print(\"Largest checkable prime:\", largest_prime)\n"
      ],
      "metadata": {
        "id": "e55MR-VeWbV2",
        "outputId": "1b82d7fe-dabc-4490-ceec-269a6f494921",
        "colab": {
          "base_uri": "https://localhost:8080/"
        }
      },
      "execution_count": 15,
      "outputs": [
        {
          "output_type": "stream",
          "name": "stdout",
          "text": [
            "Largest checkable prime: 1000000000000000000\n"
          ]
        }
      ]
    },
    {
      "cell_type": "markdown",
      "metadata": {
        "id": "2PW_Rz9uzcvT"
      },
      "source": [
        "### Jupyter\n",
        "\n",
        "- “Hello world!” (traditional since 1972)\n",
        "- Like a cross between a document and a program.\n",
        "- Divided into cells: cells execute code and display output immediately.\n",
        "    - Can add text/image cells as well – if we do something complicated, we can use text to explain it to our reader!\n",
        "    - Markdown – has a few bells and whistles to help make it look nice\n",
        "- The Golden Goose of repeatability in scientific papers:\n",
        "    - The Jupyter “Notebook” is the paper – to repeat the study, just press ‘run’!\n"
      ]
    },
    {
      "cell_type": "markdown",
      "source": [
        "# image\n",
        "![Alt text]( https://images.app.goo.gl/6NJjdcduQvhpUchj9 )"
      ],
      "metadata": {
        "id": "W9dHvvEQoxke"
      }
    },
    {
      "cell_type": "code",
      "execution_count": null,
      "metadata": {
        "id": "5oeZw6-1zcvT",
        "outputId": "52830189-1944-460e-8cc8-ef0ae868d65e"
      },
      "outputs": [
        {
          "name": "stdout",
          "output_type": "stream",
          "text": [
            "Hello, World!\n"
          ]
        }
      ],
      "source": [
        "print(\"Hello, World!\")"
      ]
    },
    {
      "cell_type": "markdown",
      "metadata": {
        "id": "OOlQuaBezcvT"
      },
      "source": [
        "#### Exercises\n",
        "\n",
        "Using the above as hints:\n",
        "\n",
        "1. Create a markdown cell below this one and add some text to it.\n",
        "\n",
        "2. Find a graph (of your favourite data) from the internet and use the internet to work out how to add the image to the cell you just added."
      ]
    },
    {
      "cell_type": "markdown",
      "metadata": {
        "id": "7tDxlrr4zcvU"
      },
      "source": [
        "### Example Scripts"
      ]
    },
    {
      "cell_type": "code",
      "execution_count": null,
      "metadata": {
        "id": "rhWT6JYjzcvU",
        "outputId": "ccbcf0ca-3594-490f-ca88-d8861bc2fb30"
      },
      "outputs": [
        {
          "name": "stdout",
          "output_type": "stream",
          "text": [
            "[0, 1, 1, 2, 3, 5, 8, 13, 21, 34]\n",
            "[0, 1]\n"
          ]
        }
      ],
      "source": [
        "# This script generates the first `n` numbers in the Fibonacci sequence.\n",
        "def generate_fibonacci(n):\n",
        "    fib_sequence = [0, 1]\n",
        "    for i in range(2, n):\n",
        "        next_number = fib_sequence[i - 1] + fib_sequence[i - 2]\n",
        "        fib_sequence.append(next_number)\n",
        "    return fib_sequence\n",
        "\n",
        "print(generate_fibonacci(10))  # Should print the first 10 Fibonacci numbers\n",
        "print(generate_fibonacci(0))   # Should print [0]"
      ]
    },
    {
      "cell_type": "code",
      "source": [
        "# generate the first n numbers of fibonacci\n",
        "def generate_fib(n):\n",
        "  fibonacci_seq = [0,1]\n",
        "  for i in range(2,n):\n",
        "    next_num = fibonacci_seq[i-1]+ fibonacci_seq[i-2]\n",
        "    fibonacci_seq.append(next_num)\n",
        "  return fibonacci_seq\n",
        "\n",
        "print(generate_fib(10))"
      ],
      "metadata": {
        "id": "q4gNtJMXpB1L",
        "outputId": "d78c3c1f-3e58-4247-adce-9abeef4d5f08",
        "colab": {
          "base_uri": "https://localhost:8080/"
        }
      },
      "execution_count": 17,
      "outputs": [
        {
          "output_type": "stream",
          "name": "stdout",
          "text": [
            "[0, 1, 1, 2, 3, 5, 8, 13, 21, 34]\n"
          ]
        }
      ]
    },
    {
      "cell_type": "code",
      "execution_count": null,
      "metadata": {
        "id": "hOq6b9tMzcvU",
        "outputId": "b2ebe013-67a4-4bbe-f939-719b4e6902be"
      },
      "outputs": [
        {
          "name": "stdout",
          "output_type": "stream",
          "text": [
            "{'hello,': 1, 'world!': 1, 'hello': 1, 'python.': 1}\n"
          ]
        }
      ],
      "source": [
        "# This script counts the frequency of each word in a given text.\n",
        "def word_frequency(text):\n",
        "    words = text.split()\n",
        "    frequency = {}\n",
        "    for word in words:\n",
        "        word = word.lower()  # Normalize to lowercase\n",
        "        if word not in frequency:\n",
        "            frequency[word] = 0\n",
        "        frequency[word] += 1\n",
        "    return frequency\n",
        "\n",
        "text = \"Hello, world! Hello Python.\"\n",
        "print(word_frequency(text))  # Should count \"hello\" twice and ignore punctuation"
      ]
    },
    {
      "cell_type": "code",
      "execution_count": 18,
      "metadata": {
        "id": "YftjNrzxzcvU",
        "outputId": "b2e72ffc-78b9-40dd-fdcf-adf3d8c4bf60",
        "colab": {
          "base_uri": "https://localhost:8080/",
          "height": 36
        }
      },
      "outputs": [
        {
          "output_type": "execute_result",
          "data": {
            "text/plain": [
              "'Sphinx'"
            ],
            "application/vnd.google.colaboratory.intrinsic+json": {
              "type": "string"
            }
          },
          "metadata": {},
          "execution_count": 18
        }
      ],
      "source": [
        "# This script finds the longest word(s) in a sentence.\n",
        "def find_longest_word(sentence):\n",
        "    words = sentence.split()\n",
        "    longest_word = \"\"\n",
        "    for word in words:\n",
        "        if len(word) > len(longest_word):\n",
        "            longest_word = word\n",
        "    return longest_word\n",
        "\n",
        "sentence = \"Sphinx of black quartz , judge my vow\"\n",
        "find_longest_word(sentence)  # Should print [\"Sphinx\", \"quartz\"]"
      ]
    },
    {
      "cell_type": "code",
      "source": [
        "def longest_word(sentence):\n",
        "  words = sentence.split()\n",
        "  longest_word = \"\"\n",
        "  for word in words:\n",
        "    if len(word) > len(longest_word):\n",
        "      longest_word = word\n",
        "  return longest_word"
      ],
      "metadata": {
        "id": "-By2RQerrlQj"
      },
      "execution_count": null,
      "outputs": []
    },
    {
      "cell_type": "code",
      "execution_count": null,
      "metadata": {
        "id": "3XKufWy1zcvU",
        "outputId": "473b7364-09c8-4af3-d4a0-ff375428dab4"
      },
      "outputs": [
        {
          "name": "stdout",
          "output_type": "stream",
          "text": [
            "6\n"
          ]
        },
        {
          "ename": "RecursionError",
          "evalue": "maximum recursion depth exceeded",
          "output_type": "error",
          "traceback": [
            "\u001b[0;31m---------------------------------------------------------------------------\u001b[0m",
            "\u001b[0;31mRecursionError\u001b[0m                            Traceback (most recent call last)",
            "Cell \u001b[0;32mIn[49], line 9\u001b[0m\n\u001b[1;32m      7\u001b[0m \u001b[38;5;66;03m# Test in Jupyter:\u001b[39;00m\n\u001b[1;32m      8\u001b[0m \u001b[38;5;28mprint\u001b[39m(sum_of_digits(\u001b[38;5;241m123\u001b[39m))   \u001b[38;5;66;03m# Should print 6 (1 + 2 + 3)\u001b[39;00m\n\u001b[0;32m----> 9\u001b[0m \u001b[38;5;28mprint\u001b[39m(sum_of_digits(\u001b[38;5;241m-\u001b[39m\u001b[38;5;241m123\u001b[39m))\n",
            "Cell \u001b[0;32mIn[49], line 5\u001b[0m, in \u001b[0;36msum_of_digits\u001b[0;34m(n)\u001b[0m\n\u001b[1;32m      3\u001b[0m \u001b[38;5;28;01mif\u001b[39;00m n \u001b[38;5;241m==\u001b[39m \u001b[38;5;241m0\u001b[39m:\n\u001b[1;32m      4\u001b[0m     \u001b[38;5;28;01mreturn\u001b[39;00m \u001b[38;5;241m0\u001b[39m\n\u001b[0;32m----> 5\u001b[0m \u001b[38;5;28;01mreturn\u001b[39;00m n \u001b[38;5;241m%\u001b[39m \u001b[38;5;241m10\u001b[39m \u001b[38;5;241m+\u001b[39m sum_of_digits(n \u001b[38;5;241m/\u001b[39m\u001b[38;5;241m/\u001b[39m \u001b[38;5;241m10\u001b[39m)\n",
            "Cell \u001b[0;32mIn[49], line 5\u001b[0m, in \u001b[0;36msum_of_digits\u001b[0;34m(n)\u001b[0m\n\u001b[1;32m      3\u001b[0m \u001b[38;5;28;01mif\u001b[39;00m n \u001b[38;5;241m==\u001b[39m \u001b[38;5;241m0\u001b[39m:\n\u001b[1;32m      4\u001b[0m     \u001b[38;5;28;01mreturn\u001b[39;00m \u001b[38;5;241m0\u001b[39m\n\u001b[0;32m----> 5\u001b[0m \u001b[38;5;28;01mreturn\u001b[39;00m n \u001b[38;5;241m%\u001b[39m \u001b[38;5;241m10\u001b[39m \u001b[38;5;241m+\u001b[39m sum_of_digits(n \u001b[38;5;241m/\u001b[39m\u001b[38;5;241m/\u001b[39m \u001b[38;5;241m10\u001b[39m)\n",
            "    \u001b[0;31m[... skipping similar frames: sum_of_digits at line 5 (2974 times)]\u001b[0m\n",
            "Cell \u001b[0;32mIn[49], line 5\u001b[0m, in \u001b[0;36msum_of_digits\u001b[0;34m(n)\u001b[0m\n\u001b[1;32m      3\u001b[0m \u001b[38;5;28;01mif\u001b[39;00m n \u001b[38;5;241m==\u001b[39m \u001b[38;5;241m0\u001b[39m:\n\u001b[1;32m      4\u001b[0m     \u001b[38;5;28;01mreturn\u001b[39;00m \u001b[38;5;241m0\u001b[39m\n\u001b[0;32m----> 5\u001b[0m \u001b[38;5;28;01mreturn\u001b[39;00m n \u001b[38;5;241m%\u001b[39m \u001b[38;5;241m10\u001b[39m \u001b[38;5;241m+\u001b[39m sum_of_digits(n \u001b[38;5;241m/\u001b[39m\u001b[38;5;241m/\u001b[39m \u001b[38;5;241m10\u001b[39m)\n",
            "\u001b[0;31mRecursionError\u001b[0m: maximum recursion depth exceeded"
          ]
        }
      ],
      "source": [
        "# This script calculates the sum of digits of a number recursively.\n",
        "def sum_of_digits(n):\n",
        "    if n == 0:\n",
        "        return 0\n",
        "    return n % 10 + sum_of_digits(n // 10)\n",
        "\n",
        "# Test in Jupyter:\n",
        "print(sum_of_digits(123))   # Should print 6 (1 + 2 + 3)\n",
        "# 123%10 = 3 , 123//10= 12\n",
        "# 3 + 12%10(=2) + 12//10 (=1)\n",
        "# 3+2+ 1%10(=0)\n",
        "# 3+2+1+0 = 6\n",
        "print(sum_of_digits(-123))  # Should print an error or incorrect result\n"
      ]
    },
    {
      "cell_type": "code",
      "source": [
        "# print sum of digits\n",
        "def sum_of_digits(n):\n",
        "  if n==0:\n",
        "    return 0\n",
        "  else:\n",
        "     return"
      ],
      "metadata": {
        "id": "164UJc7yt8rF"
      },
      "execution_count": null,
      "outputs": []
    }
  ],
  "metadata": {
    "kernelspec": {
      "display_name": "eda",
      "language": "python",
      "name": "python3"
    },
    "language_info": {
      "codemirror_mode": {
        "name": "ipython",
        "version": 3
      },
      "file_extension": ".py",
      "mimetype": "text/x-python",
      "name": "python",
      "nbconvert_exporter": "python",
      "pygments_lexer": "ipython3",
      "version": "3.12.7"
    },
    "colab": {
      "provenance": [],
      "include_colab_link": true
    }
  },
  "nbformat": 4,
  "nbformat_minor": 0
}